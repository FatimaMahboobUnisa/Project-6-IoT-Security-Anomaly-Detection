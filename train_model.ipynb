# Simplified training workflow
import torch
from torch.utils.data import DataLoader

# 1. Load preprocessed dataset (example: UNSW-NB15 IoT dataset)
train_data = torch.load("train_data.pt")
train_loader = DataLoader(train_data, batch_size=32)

# 2. Train CNN model
model = AnomalyDetector()
optimizer = torch.optim.Adam(model.parameters(), lr=0.001)
criterion = nn.CrossEntropyLoss()

for epoch in range(10):
    for X, y in train_loader:
        optimizer.zero_grad()
        outputs = model(X)
        loss = criterion(outputs, y)
        loss.backward()
        optimizer.step()

# 3. Export to ONNX for edge deployment
dummy_input = torch.randn(1, 1, 100)  # Adjust input shape
torch.onnx.export(model, dummy_input, "anomaly_detector.onnx")
